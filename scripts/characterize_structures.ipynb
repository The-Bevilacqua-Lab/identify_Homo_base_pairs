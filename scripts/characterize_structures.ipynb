{
 "cells": [
  {
   "cell_type": "code",
   "execution_count": 1,
   "id": "5ab35b8f",
   "metadata": {},
   "outputs": [],
   "source": [
    "#import libraries\n",
    "import os\n",
    "import pandas as pd\n",
    "import numpy as np"
   ]
  },
  {
   "cell_type": "code",
   "execution_count": null,
   "id": "af17a9f9",
   "metadata": {},
   "outputs": [],
   "source": [
    "#combining all result csvs into one\n",
    "# Specify the root directory where you want to start the search\n",
    "root_dir = '/Users/sharear/Documents/sky/RESEARCH_&_GRAD_SCHOOL/Penn_State/cifs_jsons/RCSB_search_outputs/apr_2025'  # Replace with your directory\n",
    "\n",
    "# List to hold DataFrames\n",
    "dfs = []\n",
    "\n",
    "# Walk through all directories and subdirectories\n",
    "for dirpath, dirnames, filenames in os.walk(root_dir):\n",
    "    for file in filenames:\n",
    "        if file.endswith('.csv'):  # Check if the file is a CSV\n",
    "            print (file)\n",
    "            # Get the full file path\n",
    "            file_path = os.path.join(dirpath, file)\n",
    "            # Read the CSV file into a DataFrame and append it to the list\n",
    "            d = pd.read_csv(file_path)\n",
    "            #checking if there are two rows of columns\n",
    "            unnamed_columns = [col for col in d.columns if col is None or \"Unnamed\" in str(col)]\n",
    "            if len(unnamed_columns)>0:\n",
    "                d.columns = d.iloc[0]  # Set the second row (index 1) as the header\n",
    "                d = d[1:].reset_index(drop=True)\n",
    "            else:\n",
    "                pass\n",
    "            #updating the 'Refinement Resolution' to 'Resolution'\n",
    "            d.columns = d.columns.str.replace(\"Refinement \", \"\", regex=False)\n",
    "\n",
    "            #replacing ' ' with '_' from all columns name\n",
    "            d.columns = d.columns.str.replace(' ', '_') \n",
    "            d1 = d[['PDB_ID', 'Experimental_Method', 'Resolution_(Å)']].copy()\n",
    "            print (d1.shape)\n",
    "            print (d1.columns)\n",
    "            dfs.append(d1)\n",
    "            \n",
    "\n",
    "# Concatenate all DataFrames into one\n",
    "D = pd.concat(dfs, ignore_index=True)\n",
    "\n",
    "D= fix_PDB_ID(D)\n",
    "print (D.shape)"
   ]
  }
 ],
 "metadata": {
  "kernelspec": {
   "display_name": "base",
   "language": "python",
   "name": "python3"
  },
  "language_info": {
   "codemirror_mode": {
    "name": "ipython",
    "version": 3
   },
   "file_extension": ".py",
   "mimetype": "text/x-python",
   "name": "python",
   "nbconvert_exporter": "python",
   "pygments_lexer": "ipython3",
   "version": "3.11.0"
  }
 },
 "nbformat": 4,
 "nbformat_minor": 5
}
