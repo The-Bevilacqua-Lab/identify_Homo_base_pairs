{
 "cells": [
  {
   "cell_type": "code",
   "execution_count": 1,
   "id": "5ab35b8f",
   "metadata": {},
   "outputs": [],
   "source": [
    "#import libraries\n",
    "import os\n",
    "import pandas as pd\n",
    "import numpy as np"
   ]
  },
  {
   "cell_type": "code",
   "execution_count": 4,
   "id": "af17a9f9",
   "metadata": {},
   "outputs": [
    {
     "name": "stdout",
     "output_type": "stream",
     "text": [
      "rcsb_pdb_custom_report_ba0be092afc119988ec6c834c6ec500b_7501-8748.csv\n",
      "(25586, 3)\n",
      "Index(['PDB_ID', 'Experimental_Method', 'Resolution_(Å)'], dtype='object', name=0)\n",
      "rcsb_pdb_custom_report_ba0be092afc119988ec6c834c6ec500b_5001-7500.csv\n",
      "(57731, 3)\n",
      "Index(['PDB_ID', 'Experimental_Method', 'Resolution_(Å)'], dtype='object', name=0)\n",
      "rcsb_pdb_custom_report_ba0be092afc119988ec6c834c6ec500b_0001-2500.csv\n",
      "(13947, 3)\n",
      "Index(['PDB_ID', 'Experimental_Method', 'Resolution_(Å)'], dtype='object', name=0)\n",
      "rcsb_pdb_custom_report_ba0be092afc119988ec6c834c6ec500b_2501-5000.csv\n",
      "(53177, 3)\n",
      "Index(['PDB_ID', 'Experimental_Method', 'Resolution_(Å)'], dtype='object', name=0)\n"
     ]
    },
    {
     "ename": "NameError",
     "evalue": "name 'fix_PDB_ID' is not defined",
     "output_type": "error",
     "traceback": [
      "\u001b[31m---------------------------------------------------------------------------\u001b[39m",
      "\u001b[31mNameError\u001b[39m                                 Traceback (most recent call last)",
      "\u001b[36mCell\u001b[39m\u001b[36m \u001b[39m\u001b[32mIn[4]\u001b[39m\u001b[32m, line 38\u001b[39m\n\u001b[32m     35\u001b[39m \u001b[38;5;66;03m# Concatenate all DataFrames into one\u001b[39;00m\n\u001b[32m     36\u001b[39m D = pd.concat(dfs, ignore_index=\u001b[38;5;28;01mTrue\u001b[39;00m)\n\u001b[32m---> \u001b[39m\u001b[32m38\u001b[39m D= \u001b[43mfix_PDB_ID\u001b[49m(D)\n\u001b[32m     39\u001b[39m \u001b[38;5;28mprint\u001b[39m (D.shape)\n",
      "\u001b[31mNameError\u001b[39m: name 'fix_PDB_ID' is not defined"
     ]
    }
   ],
   "source": [
    "#combining all result csvs into one\n",
    "# Specify the root directory where you want to start the search\n",
    "root_dir = '../data/Input/'\n",
    "\n",
    "# List to hold DataFrames\n",
    "dfs = []\n",
    "\n",
    "# Walk through all directories and subdirectories\n",
    "for dirpath, dirnames, filenames in os.walk(root_dir):\n",
    "    for file in filenames:\n",
    "        if file.endswith('.csv'):  # Check if the file is a CSV\n",
    "            print (file)\n",
    "            # Get the full file path\n",
    "            file_path = os.path.join(dirpath, file)\n",
    "            # Read the CSV file into a DataFrame and append it to the list\n",
    "            d = pd.read_csv(file_path)\n",
    "            #checking if there are two rows of columns\n",
    "            unnamed_columns = [col for col in d.columns if col is None or \"Unnamed\" in str(col)]\n",
    "            if len(unnamed_columns)>0:\n",
    "                d.columns = d.iloc[0]  # Set the second row (index 1) as the header\n",
    "                d = d[1:].reset_index(drop=True)\n",
    "            else:\n",
    "                pass\n",
    "            #updating the 'Refinement Resolution' to 'Resolution'\n",
    "            d.columns = d.columns.str.replace(\"Refinement \", \"\", regex=False)\n",
    "\n",
    "            #replacing ' ' with '_' from all columns name\n",
    "            d.columns = d.columns.str.replace(' ', '_') \n",
    "            d1 = d[['PDB_ID', 'Experimental_Method', 'Resolution_(Å)']].copy()\n",
    "            print (d1.shape)\n",
    "            print (d1.columns)\n",
    "            dfs.append(d1)\n",
    "            \n",
    "\n",
    "# Concatenate all DataFrames into one\n",
    "D = pd.concat(dfs, ignore_index=True)\n",
    "\n",
    "D= fix_PDB_ID(D)\n",
    "print (D.shape)"
   ]
  }
 ],
 "metadata": {
  "kernelspec": {
   "display_name": "base",
   "language": "python",
   "name": "python3"
  },
  "language_info": {
   "codemirror_mode": {
    "name": "ipython",
    "version": 3
   },
   "file_extension": ".py",
   "mimetype": "text/x-python",
   "name": "python",
   "nbconvert_exporter": "python",
   "pygments_lexer": "ipython3",
   "version": "3.13.2"
  }
 },
 "nbformat": 4,
 "nbformat_minor": 5
}
